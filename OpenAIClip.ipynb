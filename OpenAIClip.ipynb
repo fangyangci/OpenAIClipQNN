{
 "cells": [
  {
   "cell_type": "code",
   "execution_count": null,
   "metadata": {},
   "outputs": [],
   "source": [
    "!wget https://clip-as-service.s3.us-east-2.amazonaws.com/models/onnx/ViT-B-32/visual.onnx\n",
    "!wget https://clip-as-service.s3.us-east-2.amazonaws.com/models/onnx/ViT-B-32/textual.onnx"
   ]
  },
  {
   "cell_type": "code",
   "execution_count": 1,
   "metadata": {},
   "outputs": [],
   "source": [
    "!python -m onnxruntime.tools.make_dynamic_shape_fixed --dim_param batch_size --dim_value 3 \"textual.onnx\" \"textual_shape1.onnx\""
   ]
  },
  {
   "cell_type": "code",
   "execution_count": 2,
   "metadata": {},
   "outputs": [],
   "source": [
    "!python -m onnxruntime.tools.make_dynamic_shape_fixed --dim_param batch_size --dim_value 1 \"visual.onnx\" \"visual_shape1.onnx\""
   ]
  },
  {
   "cell_type": "code",
   "execution_count": 2,
   "metadata": {},
   "outputs": [],
   "source": [
    "import onnxruntime\n",
    "\n",
    "def GetSession(model_file, npu = True):\n",
    "    if npu:\n",
    "        options = onnxruntime.SessionOptions()\n",
    "        # (Optional) Enable configuration that raises an exception if the model can't be\n",
    "        # run entirely on the QNN HTP backend.\n",
    "        options.add_session_config_entry(\"session.disable_cpu_ep_fallback\", \"1\")\n",
    "        ort_session = onnxruntime.InferenceSession(model_file + '_shape1.onnx', \n",
    "                                            sess_options=options,\n",
    "                                            providers=[\"QNNExecutionProvider\"],\n",
    "                                            provider_options=[{\"backend_path\": \"QnnHtp.dll\"}])\n",
    "    else:\n",
    "        ort_session = onnxruntime.InferenceSession(model_file + '.onnx', providers=['CPUExecutionProvider'])\n",
    "\n",
    "    input_name = ort_session.get_inputs()[0].name\n",
    "    output_name = ort_session.get_outputs()[0].name\n",
    "    print(input_name, output_name)\n",
    "    print(\"Available providers:\", ort_session.get_providers())\n",
    "    print(\"Current provider:\", ort_session.get_provider_options())\n",
    "    return ort_session"
   ]
  },
  {
   "cell_type": "code",
   "execution_count": 3,
   "metadata": {},
   "outputs": [
    {
     "name": "stdout",
     "output_type": "stream",
     "text": [
      "input output\n",
      "Available providers: ['QNNExecutionProvider', 'CPUExecutionProvider']\n",
      "Current provider: {'QNNExecutionProvider': {}, 'CPUExecutionProvider': {}}\n"
     ]
    }
   ],
   "source": [
    "import onnxruntime\n",
    "visual_session = GetSession('visual', True)\n"
   ]
  },
  {
   "cell_type": "code",
   "execution_count": 4,
   "metadata": {},
   "outputs": [
    {
     "name": "stdout",
     "output_type": "stream",
     "text": [
      "input output\n",
      "Available providers: ['CPUExecutionProvider']\n",
      "Current provider: {'CPUExecutionProvider': {}}\n"
     ]
    }
   ],
   "source": [
    "import onnxruntime\n",
    "textual_session  = GetSession('textual', False)"
   ]
  },
  {
   "cell_type": "code",
   "execution_count": 5,
   "metadata": {},
   "outputs": [],
   "source": [
    "import clip\n",
    "from PIL import Image\n",
    "import numpy as np\n",
    "\n",
    "# onnx cannot export with cuda\n",
    "model, preprocess = clip.load(\"ViT-B/32\", device=\"cpu\", jit=False)\n",
    "\n",
    "# batch first\n",
    "image = preprocess(Image.open(\"CLIP.png\")).unsqueeze(0).cpu() # [1, 3, 224, 224]\n",
    "image_onnx = image.detach().cpu().numpy().astype(np.float32)\n",
    "\n",
    "# batch first\n",
    "text = clip.tokenize([\"a diagram\", \"a dog\", \"a cat\"]).cpu() # [3, 77]\n",
    "text_onnx = text.detach().cpu().numpy().astype(np.int64)"
   ]
  },
  {
   "cell_type": "code",
   "execution_count": 6,
   "metadata": {},
   "outputs": [],
   "source": [
    "import torch\n",
    "\n",
    "logit_scale=100.0000\n",
    "def visual_run(onnx_image):\n",
    "    onnx_input_image = {visual_session.get_inputs()[0].name: onnx_image}\n",
    "    visual_output, = visual_session.run(None, onnx_input_image)\n",
    "    return visual_output\n",
    "\n",
    "def textual_run(onnx_text):\n",
    "    onnx_input_text = {textual_session.get_inputs()[0].name: onnx_text}\n",
    "    textual_output, = textual_session.run(None, onnx_input_text)\n",
    "    return textual_output\n",
    "\n",
    "def OnnxModel(image, text, device: str = \"cpu\"):\n",
    "    image_features = torch.from_numpy(visual_run(image)).to(device)\n",
    "    text_features = torch.from_numpy(textual_run(text)).to(device)\n",
    "\n",
    "    # normalized features\n",
    "    image_features = image_features / image_features.norm(dim=-1, keepdim=True)\n",
    "    text_features = text_features / text_features.norm(dim=-1, keepdim=True)\n",
    "\n",
    "    # cosine similarity as logits\n",
    "    logits_per_image = logit_scale * image_features @ text_features.t()\n",
    "    logits_per_text = logits_per_image.t()\n",
    "\n",
    "    # shape = [global_batch_size, global_batch_size]\n",
    "    return logits_per_image, logits_per_text"
   ]
  },
  {
   "cell_type": "code",
   "execution_count": 7,
   "metadata": {},
   "outputs": [
    {
     "name": "stdout",
     "output_type": "stream",
     "text": [
      "Label probs: [[0.99288505 0.00411456 0.00300035]]\n"
     ]
    }
   ],
   "source": [
    "image_features = visual_run(image_onnx)\n",
    "text_features = textual_run(text_onnx)\n",
    "\n",
    "logits_per_image, logits_per_text = OnnxModel(image_onnx, text_onnx)\n",
    "probs = logits_per_image.softmax(dim=-1).detach().cpu().numpy()\n",
    "\n",
    "print(\"Label probs:\", probs)  # prints: [[0.9927937  0.00421067 0.00299571]]"
   ]
  }
 ],
 "metadata": {
  "kernelspec": {
   "display_name": "py311",
   "language": "python",
   "name": "python3"
  },
  "language_info": {
   "codemirror_mode": {
    "name": "ipython",
    "version": 3
   },
   "file_extension": ".py",
   "mimetype": "text/x-python",
   "name": "python",
   "nbconvert_exporter": "python",
   "pygments_lexer": "ipython3",
   "version": "3.11.11"
  }
 },
 "nbformat": 4,
 "nbformat_minor": 2
}
